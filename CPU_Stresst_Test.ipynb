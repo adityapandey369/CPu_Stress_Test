{
 "cells": [
  {
   "cell_type": "code",
   "execution_count": null,
   "id": "00c504ea",
   "metadata": {},
   "outputs": [],
   "source": [
    "# INSTALL ALL THE LIBRARIES BEFORE STRESS TEST"
   ]
  },
  {
   "cell_type": "code",
   "execution_count": null,
   "id": "1efb3218",
   "metadata": {
    "scrolled": false
   },
   "outputs": [],
   "source": [
    "%%capture\n",
    "!pip install pandas==1.5.3\n",
    "!pip install tsfel"
   ]
  },
  {
   "cell_type": "code",
   "execution_count": null,
   "id": "47dd4e9a",
   "metadata": {},
   "outputs": [],
   "source": [
    "%%capture\n",
    "\n",
    "import os\n",
    "import glob\n",
    "from scipy.stats import pearsonr\n",
    "import pandas as pd\n",
    "import numpy as np\n",
    "import seaborn as sns\n",
    "import matplotlib.pyplot as plt\n",
    "%matplotlib inline\n",
    "pd.show_versions()\n",
    "from sklearn.model_selection import train_test_split\n",
    "from sklearn.ensemble import RandomForestRegressor\n",
    "from sklearn.metrics import mean_squared_error,mean_absolute_percentage_error, r2_score, mean_absolute_error"
   ]
  },
  {
   "cell_type": "code",
   "execution_count": null,
   "id": "0e7102da",
   "metadata": {},
   "outputs": [],
   "source": [
    "df = pd.read_csv(\"/Users/adityapandey/Desktop/Coursera/dataset_Statistical.csv\")"
   ]
  },
  {
   "cell_type": "code",
   "execution_count": null,
   "id": "ac9aa5ae",
   "metadata": {},
   "outputs": [],
   "source": [
    "imp_features = ['2_ECDF Percentile_1',\n",
    " '2_Mean',\n",
    " '2_Interquartile range',\n",
    " '3_Skewness',\n",
    " '2_Standard deviation',\n",
    " '2_Median absolute deviation',\n",
    " '2_Mean absolute deviation',\n",
    " '2_Variance',\n",
    " '2_Max',\n",
    " '2_Root mean square',\n",
    " '3_Max',\n",
    " '2_Skewness',\n",
    " '3_Standard deviation',\n",
    " '3_Variance',\n",
    " '3_Root mean square',\n",
    " '3_Mean absolute deviation',\n",
    " '1_ECDF Percentile_0',\n",
    " '3_Interquartile range',\n",
    " '3_Median absolute deviation',\n",
    " '0_Histogram_5',\n",
    " '5_ECDF Percentile_0',\n",
    " '1_Mean',\n",
    " '7_Median absolute deviation',\n",
    " '1_Median',\n",
    " '1_Histogram_9',\n",
    " '1_Kurtosis',\n",
    " '3_ECDF Percentile_1',\n",
    " '5_Histogram_3']"
   ]
  },
  {
   "cell_type": "code",
   "execution_count": null,
   "id": "2106eb6b",
   "metadata": {},
   "outputs": [],
   "source": [
    "selected_features = df[imp_features].copy()\n",
    "selected_features"
   ]
  },
  {
   "cell_type": "code",
   "execution_count": null,
   "id": "879e253a",
   "metadata": {},
   "outputs": [],
   "source": [
    "from sklearn.datasets import make_classification\n",
    "from sklearn.feature_selection import RFECV"
   ]
  },
  {
   "cell_type": "code",
   "execution_count": null,
   "id": "b7450c6d",
   "metadata": {},
   "outputs": [],
   "source": [
    "y = df.iloc[:,-1:]\n",
    "x = selected_features\n",
    "x_train, x_test, y_train, y_test = train_test_split(x, y, test_size = 0.20, random_state = 28 )"
   ]
  },
  {
   "cell_type": "code",
   "execution_count": null,
   "id": "f5b2d0e3",
   "metadata": {
    "scrolled": true
   },
   "outputs": [],
   "source": [
    "import time\n",
    "start_time = time.time()\n",
    "\n",
    "test_accuracy_rates = []\n",
    "\n",
    "for d in range(9, 10):\n",
    "  for a in range(21, 22):\n",
    "    for c in range(40, 50):\n",
    "      b = a/100\n",
    "      x_train, x_test, y_train, y_test = train_test_split(x, y, test_size=b, random_state=c)\n",
    "      rf = RandomForestRegressor(n_estimators=500, max_depth=d, n_jobs=-1)\n",
    "      rf.fit(x_train,y_train)\n",
    "\n",
    "      y_pred = rf.predict(x_test)\n",
    "\n",
    "\n",
    "      A2 = r2_score(y_test,y_pred)\n",
    "      accuracy = (A2 * 100)\n",
    "      print(\"Accuracy for\" +str(d)+ \"and\"+ str(b)+ \"and\" +str(c)+ \"is\" ,accuracy)\n",
    "\n",
    "      test_accuracy_rates.append(A2)\n",
    "\n",
    "test_accuracy_rates\n",
    "\n",
    "end_time = time.time()"
   ]
  },
  {
   "cell_type": "code",
   "execution_count": null,
   "id": "92c25b6c",
   "metadata": {},
   "outputs": [],
   "source": [
    "elapsed_time = end_time - start_time\n",
    "print(f\"Time taken: {elapsed_time:.6f} seconds\")"
   ]
  },
  {
   "cell_type": "code",
   "execution_count": null,
   "id": "49902870",
   "metadata": {},
   "outputs": [],
   "source": [
    "test_accuracy_rates.sort(reverse=True)\n",
    "print(test_accuracy_rates)"
   ]
  },
  {
   "cell_type": "code",
   "execution_count": null,
   "id": "9978b567",
   "metadata": {},
   "outputs": [],
   "source": []
  },
  {
   "cell_type": "code",
   "execution_count": null,
   "id": "c4e52d5b",
   "metadata": {},
   "outputs": [],
   "source": []
  }
 ],
 "metadata": {
  "kernelspec": {
   "display_name": "Python 3 (ipykernel)",
   "language": "python",
   "name": "python3"
  },
  "language_info": {
   "codemirror_mode": {
    "name": "ipython",
    "version": 3
   },
   "file_extension": ".py",
   "mimetype": "text/x-python",
   "name": "python",
   "nbconvert_exporter": "python",
   "pygments_lexer": "ipython3",
   "version": "3.11.4"
  }
 },
 "nbformat": 4,
 "nbformat_minor": 5
}
